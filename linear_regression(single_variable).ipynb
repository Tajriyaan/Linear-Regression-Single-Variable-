{
  "nbformat": 4,
  "nbformat_minor": 0,
  "metadata": {
    "colab": {
      "name": "linear_regression(single_variable).ipynb",
      "private_outputs": true,
      "provenance": [],
      "toc_visible": true,
      "authorship_tag": "ABX9TyN0pqR6NsZ5oZ5HNyp54KrD",
      "include_colab_link": true
    },
    "kernelspec": {
      "name": "python3",
      "display_name": "Python 3"
    },
    "language_info": {
      "name": "python"
    },
    "accelerator": "TPU"
  },
  "cells": [
    {
      "cell_type": "markdown",
      "metadata": {
        "id": "view-in-github",
        "colab_type": "text"
      },
      "source": [
        "<a href=\"https://colab.research.google.com/github/Tajriyaan/Linear-Regression-Single-Variable-/blob/main/linear_regression(single_variable).ipynb\" target=\"_parent\"><img src=\"https://colab.research.google.com/assets/colab-badge.svg\" alt=\"Open In Colab\"/></a>"
      ]
    },
    {
      "cell_type": "code",
      "metadata": {
        "id": "k3l8yMEvtscL"
      },
      "source": [
        "import pandas as pd\n",
        "import numpy as np\n",
        "import matplotlib.pyplot as plt\n",
        "from sklearn import linear_model"
      ],
      "execution_count": null,
      "outputs": []
    },
    {
      "cell_type": "markdown",
      "metadata": {
        "id": "7dhEG3et9iOq"
      },
      "source": [
        "# Linear Regression Model"
      ]
    },
    {
      "cell_type": "code",
      "metadata": {
        "id": "USp1fxRayH6K"
      },
      "source": [
        "df = pd.read_csv(\"homeprices.csv\")\n",
        "df\n"
      ],
      "execution_count": null,
      "outputs": []
    },
    {
      "cell_type": "code",
      "metadata": {
        "id": "-MknlAg_3q_b"
      },
      "source": [
        "reg.predict([[3300]])"
      ],
      "execution_count": null,
      "outputs": []
    },
    {
      "cell_type": "code",
      "metadata": {
        "id": "nyPOFKZN4eyd"
      },
      "source": [
        "reg.coef_"
      ],
      "execution_count": null,
      "outputs": []
    },
    {
      "cell_type": "code",
      "metadata": {
        "id": "7PBl8ht18ei5"
      },
      "source": [
        "reg.intercept_"
      ],
      "execution_count": null,
      "outputs": []
    },
    {
      "cell_type": "code",
      "metadata": {
        "id": "yV0ipxsC8h-r"
      },
      "source": [
        "\n",
        "m = 135.78767123 \n",
        "x = 3300 \n",
        "b = 180616.43835616432\n",
        "\n",
        "y = m*x + b\n",
        "print(y)"
      ],
      "execution_count": null,
      "outputs": []
    },
    {
      "cell_type": "code",
      "metadata": {
        "id": "AP3BcCYn81Pb"
      },
      "source": [
        ""
      ],
      "execution_count": null,
      "outputs": []
    },
    {
      "cell_type": "markdown",
      "metadata": {
        "id": "xAuz8Ffa9u-i"
      },
      "source": [
        "## Predicting Prices of Areas "
      ]
    },
    {
      "cell_type": "code",
      "metadata": {
        "id": "DC6wa-s--s5L"
      },
      "source": [
        "d = pd.read_csv(\"areas.csv\")\n",
        "d"
      ],
      "execution_count": null,
      "outputs": []
    },
    {
      "cell_type": "code",
      "metadata": {
        "id": "x3EYhMYU-6dd"
      },
      "source": [
        "p = reg.predict(d)"
      ],
      "execution_count": null,
      "outputs": []
    },
    {
      "cell_type": "code",
      "metadata": {
        "id": "nrgnz_CA_Bhn"
      },
      "source": [
        "d['prices']= p"
      ],
      "execution_count": null,
      "outputs": []
    },
    {
      "cell_type": "code",
      "metadata": {
        "id": "h1kMgE-B_HEM"
      },
      "source": [
        "d.to_csv(\"prediction.csv\",index = False)"
      ],
      "execution_count": null,
      "outputs": []
    },
    {
      "cell_type": "code",
      "metadata": {
        "id": "cM0sytcJ_Ibk"
      },
      "source": [
        "%matplotlib inline\n",
        "plt.xlabel('Area(sqr feet)')\n",
        "plt.ylabel('Price(USD $)')\n",
        "plt.scatter(df.area, df.price, color = 'blue', marker = '+')\n",
        "plt.plot(df.area,reg.predict(df[['area']]),color='red')                                                                                                                                                                                                                                                                                                                                                                                                                                                                                                                                           "
      ],
      "execution_count": null,
      "outputs": []
    },
    {
      "cell_type": "code",
      "metadata": {
        "id": "5ssGRNA3_QBu"
      },
      "source": [
        ""
      ],
      "execution_count": null,
      "outputs": []
    }
  ]
}